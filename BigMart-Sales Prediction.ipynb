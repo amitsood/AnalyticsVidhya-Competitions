{
 "cells": [
  {
   "cell_type": "markdown",
   "metadata": {},
   "source": [
    "# BIG-MART Sales Prediction Problem"
   ]
  },
  {
   "cell_type": "markdown",
   "metadata": {},
   "source": [
    "The Big mart sales prediction problem data science competition where the goal was to predict the sales of a product in a particular sales outlet. It has over 4935 registered participants and currently i am listed at #16 position on the public leaderboard. In this blog i will explain my approach.\n",
    "\n",
    "Here is the link to participate in the competition.\n",
    "https://datahack.analyticsvidhya.com/contest/practice-problem-big-mart-sales-iii/"
   ]
  },
  {
   "cell_type": "markdown",
   "metadata": {},
   "source": [
    "## Overview"
   ]
  },
  {
   "cell_type": "markdown",
   "metadata": {},
   "source": [
    "\n",
    "This blog post will cover all sections to go from the raw data to the final submissions. Here’s an overview of the different sections. \n",
    "1. Problem statement\n",
    "2. Exploratory analysis\n",
    "3. Feature engineering\n",
    "4. Modelling\n",
    "5. Conclusion\n"
   ]
  },
  {
   "cell_type": "markdown",
   "metadata": {
    "nbpresent": {
     "id": "78e586dc-88c0-448a-bd08-359f164f0ec5"
    }
   },
   "source": [
    "# Problem Statement\n",
    "\n",
    "The data scientists at BigMart have collected 2013 sales data for 1559 products across 10 stores in different cities. Also, certain attributes of each product and store have been defined. The aim is to build a predictive model and find out the sales of each product at a particular store.    \n",
    "Using this model, BigMart will try to understand the properties of products and stores which play a key role in increasing sales.\n",
    "\n",
    "Please note that the data may have missing values as some stores might not report all the data due to technical glitches. Hence, it will be required to treat them accordingly.\n",
    "    \n"
   ]
  },
  {
   "cell_type": "markdown",
   "metadata": {
    "nbpresent": {
     "id": "4d71d21e-e15d-4b60-80db-1bac19976199"
    }
   },
   "source": [
    "# Data\n",
    "We have train (8523) and test (5681) data set, train data set has both input and output variable(s). You need to predict the sales for test data set.\n",
    " \n",
    "    Variable                       Description\n",
    "    Item_Identifier                Unique product ID\n",
    "    Item_Weight                    Weight of product\n",
    "    Item_Fat_Content               Whether the product is low fat or not\n",
    "    Item_Visibility                The % of total display area of all products in a store allocated to the particular                                    product\n",
    "    Item_Type                      The category to which the product belongs\n",
    "    Item_MRP                       Maximum Retail Price (list price) of the product\n",
    "    Outlet_Identifier              Unique store ID\n",
    "    Outlet_Establishment_Year      The year in which store was established\n",
    "    Outlet_Size                    The size of the store in terms of ground area covered\n",
    "    Outlet_Location_Type           The type of city in which the store is located\n",
    "    Outlet_Type                    Whether the outlet is just a grocery store or some sort of supermarket\n",
    "    Item_Outlet_Sales              Sales of the product in the particulat store. This is the outcome variable to be                                      predicted."
   ]
  },
  {
   "cell_type": "markdown",
   "metadata": {
    "nbpresent": {
     "id": "22e472de-2c64-4bc0-83eb-32d3cad3aabd"
    }
   },
   "source": [
    "# Evaluation Metric:\n",
    "Your model performance will be evaluated on the basis of your prediction of the sales for the test data (test.csv), which contains similar data-points as train except for the sales to be predicted. Your submission needs to be in the format as shown in \"SampleSubmission.csv\".\n",
    "We at our end, have the actual sales for the test dataset, against which your predictions will be evaluated. We will use the Root Mean Square Error value to judge your response."
   ]
  },
  {
   "cell_type": "markdown",
   "metadata": {},
   "source": [
    "# Exploratory Analysis (or EDA).\n",
    "\n",
    "Probably the most crucial step in the game. I always prefer to do the EDA on the complete dataset. So if you have been given training and test dataset seperately, i would highly recommend combining it and then doing EDA on it. Things you will do here are:\n",
    "1. Look at the summary of data and get a feel for it.\n",
    "2. Missing data treatment\n",
    "3. Outlier detection and treatment\n",
    "4. Cleaning data like in the dataset some Item_Fat_Content are listed as \"Low Fat\" and some as \"LF\". They both mean the same thing and needs to be corrected before any analysis.\n",
    "5. Feature engineering like creating new features or factoring existing ones.\n",
    "\n",
    "Once we are done with this seperate training and test datasets to performing statistical modelling.\n",
    "\n",
    "So lets gets started.\n"
   ]
  },
  {
   "cell_type": "code",
   "execution_count": 1,
   "metadata": {
    "collapsed": false
   },
   "outputs": [],
   "source": [
    "#First lets import required libraries. For this problem i will be using pandas, numpy and matplotlib \n",
    "#which comes by default with python so no need to install them seperately. \n",
    "import pandas as pd\n",
    "import numpy as np\n",
    "import matplotlib as plt\n",
    "\n",
    "#Import the data into your working environment.\n",
    "train= pd.read_csv(\"train.csv\")\n",
    "test= pd.read_csv(\"test.csv\")\n"
   ]
  },
  {
   "cell_type": "code",
   "execution_count": 2,
   "metadata": {
    "collapsed": false
   },
   "outputs": [
    {
     "data": {
      "text/plain": [
       "False"
      ]
     },
     "execution_count": 2,
     "metadata": {},
     "output_type": "execute_result"
    }
   ],
   "source": [
    "# Lets check if there is any discrepency in the features between our test and training dataset. \n",
    "# You should always do this check to make sure there is high level sanity between you test and training datasets.\n",
    "# This is critical because you prediction model is trained on the training set and used to predict test which the model\n",
    "# has never seen so if there are features which are present in training and not in test or vice versa than it will be\n",
    "# extremely difficult to have a good prediction/forecasting model.\n",
    "\n",
    "train.columns.equals(test.columns)\n",
    "# Running this resulted in 'False' which means there is difference between the train and test datasets."
   ]
  },
  {
   "cell_type": "code",
   "execution_count": 3,
   "metadata": {
    "collapsed": false
   },
   "outputs": [
    {
     "data": {
      "text/plain": [
       "Index(['Item_Outlet_Sales'], dtype='object')"
      ]
     },
     "execution_count": 3,
     "metadata": {},
     "output_type": "execute_result"
    }
   ],
   "source": [
    "# Lets see which are features are different. \n",
    "train.columns.difference(test.columns)"
   ]
  },
  {
   "cell_type": "code",
   "execution_count": 4,
   "metadata": {
    "collapsed": false
   },
   "outputs": [
    {
     "data": {
      "text/plain": [
       "Index([], dtype='object')"
      ]
     },
     "execution_count": 4,
     "metadata": {},
     "output_type": "execute_result"
    }
   ],
   "source": [
    "# So we have only 1 geature that is not there in test dataset which is our response variable. So we are good here.\n",
    "# Next i will combine training and test datasets so that i can do my EDA on that but before that i need to make sure that \n",
    "# number of features are equal in both datasets. So i will add a \"Item_Outlet_Sales\" feature in test dataset with 0 as its value.\n",
    "\n",
    "test['Item_Outlet_Sales']=0\n",
    "\n",
    "#Now if you check for difference you will see have same features in both dataset.\n",
    "train.columns.difference(test.columns)\n"
   ]
  },
  {
   "cell_type": "code",
   "execution_count": 5,
   "metadata": {
    "collapsed": false
   },
   "outputs": [
    {
     "data": {
      "text/html": [
       "<div>\n",
       "<table border=\"1\" class=\"dataframe\">\n",
       "  <thead>\n",
       "    <tr style=\"text-align: right;\">\n",
       "      <th></th>\n",
       "      <th>Item_Identifier</th>\n",
       "      <th>Item_Weight</th>\n",
       "      <th>Item_Fat_Content</th>\n",
       "      <th>Item_Visibility</th>\n",
       "      <th>Item_Type</th>\n",
       "      <th>Item_MRP</th>\n",
       "      <th>Outlet_Identifier</th>\n",
       "      <th>Outlet_Establishment_Year</th>\n",
       "      <th>Outlet_Size</th>\n",
       "      <th>Outlet_Location_Type</th>\n",
       "      <th>Outlet_Type</th>\n",
       "      <th>Item_Outlet_Sales</th>\n",
       "    </tr>\n",
       "  </thead>\n",
       "  <tbody>\n",
       "    <tr>\n",
       "      <th>0</th>\n",
       "      <td>FDA15</td>\n",
       "      <td>9.30</td>\n",
       "      <td>Low Fat</td>\n",
       "      <td>0.016047</td>\n",
       "      <td>Dairy</td>\n",
       "      <td>249.8092</td>\n",
       "      <td>OUT049</td>\n",
       "      <td>1999</td>\n",
       "      <td>Medium</td>\n",
       "      <td>Tier 1</td>\n",
       "      <td>Supermarket Type1</td>\n",
       "      <td>3735.1380</td>\n",
       "    </tr>\n",
       "    <tr>\n",
       "      <th>1</th>\n",
       "      <td>DRC01</td>\n",
       "      <td>5.92</td>\n",
       "      <td>Regular</td>\n",
       "      <td>0.019278</td>\n",
       "      <td>Soft Drinks</td>\n",
       "      <td>48.2692</td>\n",
       "      <td>OUT018</td>\n",
       "      <td>2009</td>\n",
       "      <td>Medium</td>\n",
       "      <td>Tier 3</td>\n",
       "      <td>Supermarket Type2</td>\n",
       "      <td>443.4228</td>\n",
       "    </tr>\n",
       "    <tr>\n",
       "      <th>2</th>\n",
       "      <td>FDN15</td>\n",
       "      <td>17.50</td>\n",
       "      <td>Low Fat</td>\n",
       "      <td>0.016760</td>\n",
       "      <td>Meat</td>\n",
       "      <td>141.6180</td>\n",
       "      <td>OUT049</td>\n",
       "      <td>1999</td>\n",
       "      <td>Medium</td>\n",
       "      <td>Tier 1</td>\n",
       "      <td>Supermarket Type1</td>\n",
       "      <td>2097.2700</td>\n",
       "    </tr>\n",
       "    <tr>\n",
       "      <th>3</th>\n",
       "      <td>FDX07</td>\n",
       "      <td>19.20</td>\n",
       "      <td>Regular</td>\n",
       "      <td>0.000000</td>\n",
       "      <td>Fruits and Vegetables</td>\n",
       "      <td>182.0950</td>\n",
       "      <td>OUT010</td>\n",
       "      <td>1998</td>\n",
       "      <td>NaN</td>\n",
       "      <td>Tier 3</td>\n",
       "      <td>Grocery Store</td>\n",
       "      <td>732.3800</td>\n",
       "    </tr>\n",
       "    <tr>\n",
       "      <th>4</th>\n",
       "      <td>NCD19</td>\n",
       "      <td>8.93</td>\n",
       "      <td>Low Fat</td>\n",
       "      <td>0.000000</td>\n",
       "      <td>Household</td>\n",
       "      <td>53.8614</td>\n",
       "      <td>OUT013</td>\n",
       "      <td>1987</td>\n",
       "      <td>High</td>\n",
       "      <td>Tier 3</td>\n",
       "      <td>Supermarket Type1</td>\n",
       "      <td>994.7052</td>\n",
       "    </tr>\n",
       "  </tbody>\n",
       "</table>\n",
       "</div>"
      ],
      "text/plain": [
       "  Item_Identifier  Item_Weight Item_Fat_Content  Item_Visibility  \\\n",
       "0           FDA15         9.30          Low Fat         0.016047   \n",
       "1           DRC01         5.92          Regular         0.019278   \n",
       "2           FDN15        17.50          Low Fat         0.016760   \n",
       "3           FDX07        19.20          Regular         0.000000   \n",
       "4           NCD19         8.93          Low Fat         0.000000   \n",
       "\n",
       "               Item_Type  Item_MRP Outlet_Identifier  \\\n",
       "0                  Dairy  249.8092            OUT049   \n",
       "1            Soft Drinks   48.2692            OUT018   \n",
       "2                   Meat  141.6180            OUT049   \n",
       "3  Fruits and Vegetables  182.0950            OUT010   \n",
       "4              Household   53.8614            OUT013   \n",
       "\n",
       "   Outlet_Establishment_Year Outlet_Size Outlet_Location_Type  \\\n",
       "0                       1999      Medium               Tier 1   \n",
       "1                       2009      Medium               Tier 3   \n",
       "2                       1999      Medium               Tier 1   \n",
       "3                       1998         NaN               Tier 3   \n",
       "4                       1987        High               Tier 3   \n",
       "\n",
       "         Outlet_Type  Item_Outlet_Sales  \n",
       "0  Supermarket Type1          3735.1380  \n",
       "1  Supermarket Type2           443.4228  \n",
       "2  Supermarket Type1          2097.2700  \n",
       "3      Grocery Store           732.3800  \n",
       "4  Supermarket Type1           994.7052  "
      ]
     },
     "execution_count": 5,
     "metadata": {},
     "output_type": "execute_result"
    }
   ],
   "source": [
    "# Lets merge the training and test dataset for EDA, this is important because you want to learn about the complete\n",
    "# data in hand. There should not be any suprises which predicting using test data\n",
    "alldata = pd.concat([train,test])\n",
    "\n",
    "#check if the concat went well\n",
    "\n",
    "# This will tell you the dimensions of the data\n",
    "alldata.shape \n",
    "\n",
    "# Quick look at the first 5 rows of the data\n",
    "alldata.head(5)"
   ]
  },
  {
   "cell_type": "code",
   "execution_count": 6,
   "metadata": {
    "collapsed": false
   },
   "outputs": [
    {
     "data": {
      "text/plain": [
       "Index(['Item_Identifier', 'Item_Weight', 'Item_Fat_Content', 'Item_Visibility',\n",
       "       'Item_Type', 'Item_MRP', 'Outlet_Identifier',\n",
       "       'Outlet_Establishment_Year', 'Outlet_Size', 'Outlet_Location_Type',\n",
       "       'Outlet_Type', 'Item_Outlet_Sales'],\n",
       "      dtype='object')"
      ]
     },
     "execution_count": 6,
     "metadata": {},
     "output_type": "execute_result"
    }
   ],
   "source": [
    "#Look at the feature names of the data\n",
    "alldata.columns"
   ]
  },
  {
   "cell_type": "code",
   "execution_count": 7,
   "metadata": {
    "collapsed": false
   },
   "outputs": [
    {
     "data": {
      "text/plain": [
       "Item_Identifier               object\n",
       "Item_Weight                  float64\n",
       "Item_Fat_Content              object\n",
       "Item_Visibility              float64\n",
       "Item_Type                     object\n",
       "Item_MRP                     float64\n",
       "Outlet_Identifier             object\n",
       "Outlet_Establishment_Year      int64\n",
       "Outlet_Size                   object\n",
       "Outlet_Location_Type          object\n",
       "Outlet_Type                   object\n",
       "Item_Outlet_Sales            float64\n",
       "dtype: object"
      ]
     },
     "execution_count": 7,
     "metadata": {},
     "output_type": "execute_result"
    }
   ],
   "source": [
    "# Type of data we have in hand. This is important because some times while importing a dataset python may not assign\n",
    "# correct type to it.\n",
    "alldata.dtypes"
   ]
  },
  {
   "cell_type": "code",
   "execution_count": 8,
   "metadata": {
    "collapsed": false
   },
   "outputs": [
    {
     "data": {
      "text/plain": [
       "Item_Identifier                 0\n",
       "Item_Weight                  2439\n",
       "Item_Fat_Content                0\n",
       "Item_Visibility                 0\n",
       "Item_Type                       0\n",
       "Item_MRP                        0\n",
       "Outlet_Identifier               0\n",
       "Outlet_Establishment_Year       0\n",
       "Outlet_Size                  4016\n",
       "Outlet_Location_Type            0\n",
       "Outlet_Type                     0\n",
       "Item_Outlet_Sales               0\n",
       "dtype: int64"
      ]
     },
     "execution_count": 8,
     "metadata": {},
     "output_type": "execute_result"
    }
   ],
   "source": [
    "# Do we have missing any data missing. \n",
    "# Count Number of Nulls (Missing Values) for each feature\n",
    "alldata.apply(lambda x: sum(x.isnull()))\n",
    "# Feature Item_weight & Outlet_Size have missing values. This needs to be fixed, we will come back to this later \n",
    "# as we still need to learn about the data more.\n",
    "# For the starters a quick way to fix missing data is to fill them with mean/median/mode. Keep in mind there are many \n",
    "# advanced ways to fill missing values and i would highly encourage you to explore there are many good articles\n",
    "# on kaggle and similar websites."
   ]
  },
  {
   "cell_type": "markdown",
   "metadata": {},
   "source": [
    "## Alright So far we have looked at the data as a whole. Lets start exploring features one by one"
   ]
  },
  {
   "cell_type": "code",
   "execution_count": 9,
   "metadata": {
    "collapsed": false
   },
   "outputs": [
    {
     "data": {
      "text/plain": [
       "count       14204\n",
       "unique          5\n",
       "top       Low Fat\n",
       "freq         8485\n",
       "Name: Item_Fat_Content, dtype: object"
      ]
     },
     "execution_count": 9,
     "metadata": {},
     "output_type": "execute_result"
    }
   ],
   "source": [
    "#First up is 'Item_Fat_Content'\n",
    "alldata['Item_Fat_Content'].describe()\n",
    "#From the output below derive following inferences\n",
    "#1. There are no missing value on this feature since it has 14204 data elements which matches with the number of rows in the dataset\n",
    "#2. There are 5 unique levels for this features. \n",
    "#3. Low Fat has the highest frequency in the data. "
   ]
  },
  {
   "cell_type": "code",
   "execution_count": 10,
   "metadata": {
    "collapsed": false
   },
   "outputs": [
    {
     "data": {
      "text/plain": [
       "array(['Low Fat', 'Regular', 'low fat', 'LF', 'reg'], dtype=object)"
      ]
     },
     "execution_count": 10,
     "metadata": {},
     "output_type": "execute_result"
    }
   ],
   "source": [
    "#Levels of this geature\n",
    "alldata['Item_Fat_Content'].unique()"
   ]
  },
  {
   "cell_type": "markdown",
   "metadata": {},
   "source": [
    "Notice something?\n",
    "\n",
    "Low Fat, low fat, LF --> They are all same except are written differently. May be a data entry error or an error in the system. This needs to be fixed along with 'Regular' and 'reg'"
   ]
  },
  {
   "cell_type": "code",
   "execution_count": 11,
   "metadata": {
    "collapsed": false
   },
   "outputs": [
    {
     "data": {
      "text/plain": [
       "array(['Low Fat', 'Regular'], dtype=object)"
      ]
     },
     "execution_count": 11,
     "metadata": {},
     "output_type": "execute_result"
    }
   ],
   "source": [
    "#Lets replace differently written 'LF', 'low fat' to 'Low Fat' and 'reg' to Regular'\n",
    "alldata.Item_Fat_Content.replace({'LF': 'Low Fat', 'low fat': 'Low Fat', 'reg':'Regular'}, inplace=True)\n",
    "\n",
    "#Lets confirm if we have fixed the problem\n",
    "alldata['Item_Fat_Content'].unique()"
   ]
  },
  {
   "cell_type": "markdown",
   "metadata": {},
   "source": [
    "We have only 2 levels now which looks good. "
   ]
  },
  {
   "cell_type": "code",
   "execution_count": 12,
   "metadata": {
    "collapsed": false
   },
   "outputs": [
    {
     "data": {
      "text/plain": [
       "Low Fat    9185\n",
       "Regular    5019\n",
       "Name: Item_Fat_Content, dtype: int64"
      ]
     },
     "execution_count": 12,
     "metadata": {},
     "output_type": "execute_result"
    }
   ],
   "source": [
    "#Lets look at the frequency of each type of fat content. \n",
    "alldata['Item_Fat_Content'].value_counts()"
   ]
  },
  {
   "cell_type": "markdown",
   "metadata": {},
   "source": [
    "We have 9185 items with low fat content and 5019 items with regular fat content"
   ]
  },
  {
   "cell_type": "code",
   "execution_count": 13,
   "metadata": {
    "collapsed": false
   },
   "outputs": [
    {
     "data": {
      "image/png": "[encoded data removed]",
      "text/plain": [
       "<matplotlib.figure.Figure at 0x10b018978>"
      ]
     },
     "metadata": {},
     "output_type": "display_data"
    }
   ],
   "source": [
    "# Run this if seaborn is already not installed else ignore\n",
    "#!pip install seaborn \n",
    "\n",
    "import seaborn as sns\n",
    "%matplotlib inline \n",
    "import matplotlib.pyplot as plt\n",
    "\n",
    "#Lets visualize and see which type of sales outlet is selling what kind of items\n",
    "sns.countplot(x=\"Item_Fat_Content\", hue=\"Outlet_Type\", data=alldata);"
   ]
  },
  {
   "cell_type": "markdown",
   "metadata": {},
   "source": [
    "Visualizing data is critical as it helps in creating and validating hypothesis\n",
    "Inferences from the below visualization:\n",
    "* Supermarket Type 1 sells the most low fat products. "
   ]
  },
  {
   "cell_type": "code",
   "execution_count": 14,
   "metadata": {
    "collapsed": false
   },
   "outputs": [
    {
     "data": {
      "image/png": "[encoded data removed]",
      "text/plain": [
       "<matplotlib.figure.Figure at 0x119b3def0>"
      ]
     },
     "metadata": {},
     "output_type": "display_data"
    }
   ],
   "source": [
    "#Lets look at fat content by the type of item\n",
    "%matplotlib inline \n",
    "sns.countplot(x=\"Item_Fat_Content\",  hue=\"Item_Type\", data=alldata);"
   ]
  },
  {
   "cell_type": "code",
   "execution_count": 15,
   "metadata": {
    "collapsed": false
   },
   "outputs": [
    {
     "data": {
      "text/plain": [
       "count     14204\n",
       "unique     1559\n",
       "top       FDE34\n",
       "freq         10\n",
       "Name: Item_Identifier, dtype: object"
      ]
     },
     "execution_count": 15,
     "metadata": {},
     "output_type": "execute_result"
    }
   ],
   "source": [
    "#Next look at 'Item_Identifier' feature\n",
    "alldata['Item_Identifier'].describe()"
   ]
  },
  {
   "cell_type": "markdown",
   "metadata": {},
   "source": [
    "#Inferences drawn:\n",
    "1. There are no missing values\n",
    "2. 1559 unique identifiers in the data\n",
    "3. FDE34 has the most occurances with 10.\n",
    "\n",
    "My intuition says that this features won't be of much use when i do my prediction model, i will drop it later \n",
    "when i will create my prediction model.\n",
    "\n",
    "del alldata['Item_Identifier']"
   ]
  },
  {
   "cell_type": "code",
   "execution_count": 16,
   "metadata": {
    "collapsed": false
   },
   "outputs": [
    {
     "data": {
      "text/plain": [
       "count    14204.000000\n",
       "mean       141.004977\n",
       "std         62.086938\n",
       "min         31.290000\n",
       "25%         94.012000\n",
       "50%        142.247000\n",
       "75%        185.855600\n",
       "max        266.888400\n",
       "Name: Item_MRP, dtype: float64"
      ]
     },
     "execution_count": 16,
     "metadata": {},
     "output_type": "execute_result"
    }
   ],
   "source": [
    "alldata['Item_MRP'].describe()"
   ]
  },
  {
   "cell_type": "code",
   "execution_count": 17,
   "metadata": {
    "collapsed": false
   },
   "outputs": [
    {
     "data": {
      "text/plain": [
       "<matplotlib.axes._subplots.AxesSubplot at 0x119e76390>"
      ]
     },
     "execution_count": 17,
     "metadata": {},
     "output_type": "execute_result"
    },
    {
     "data": {
      "image/png": "[encoded data removed]",
      "text/plain": [
       "<matplotlib.figure.Figure at 0x10afe9588>"
      ]
     },
     "metadata": {},
     "output_type": "display_data"
    }
   ],
   "source": [
    "alldata['Item_MRP'].hist()"
   ]
  },
  {
   "cell_type": "markdown",
   "metadata": {},
   "source": [
    "Inferences\n",
    "1. Data looks ok. Don't see skewness, may not have to worry about transforming this feature\n",
    "2. There are no missing data as well"
   ]
  },
  {
   "cell_type": "code",
   "execution_count": 18,
   "metadata": {
    "collapsed": false
   },
   "outputs": [
    {
     "data": {
      "text/plain": [
       "count                     14204\n",
       "unique                       16\n",
       "top       Fruits and Vegetables\n",
       "freq                       2013\n",
       "Name: Item_Type, dtype: object"
      ]
     },
     "execution_count": 18,
     "metadata": {},
     "output_type": "execute_result"
    }
   ],
   "source": [
    "alldata['Item_Type'].describe()"
   ]
  },
  {
   "cell_type": "code",
   "execution_count": 19,
   "metadata": {
    "collapsed": false
   },
   "outputs": [
    {
     "data": {
      "text/plain": [
       "array(['Dairy', 'Soft Drinks', 'Meat', 'Fruits and Vegetables',\n",
       "       'Household', 'Baking Goods', 'Snack Foods', 'Frozen Foods',\n",
       "       'Breakfast', 'Health and Hygiene', 'Hard Drinks', 'Canned',\n",
       "       'Breads', 'Starchy Foods', 'Others', 'Seafood'], dtype=object)"
      ]
     },
     "execution_count": 19,
     "metadata": {},
     "output_type": "execute_result"
    }
   ],
   "source": [
    "#Lets look at all the unique items types we are selling.\n",
    "alldata['Item_Type'].unique()"
   ]
  },
  {
   "cell_type": "markdown",
   "metadata": {
    "collapsed": false
   },
   "source": [
    "Some of the things we can do here is to combine similar item types. Like Seafood and meat products can be clubbed into \n",
    "1 item type. These kind of feature are really useful in creating new feature, but for my analysis i have decided to leave it as is. There are 16 unique item types with 0 missing values. "
   ]
  },
  {
   "cell_type": "code",
   "execution_count": 21,
   "metadata": {
    "collapsed": false
   },
   "outputs": [
    {
     "data": {
      "text/plain": [
       "count    14204.000000\n",
       "mean         0.065953\n",
       "std          0.051459\n",
       "min          0.000000\n",
       "25%          0.027036\n",
       "50%          0.054021\n",
       "75%          0.094037\n",
       "max          0.328391\n",
       "Name: Item_Visibility, dtype: float64"
      ]
     },
     "execution_count": 21,
     "metadata": {},
     "output_type": "execute_result"
    }
   ],
   "source": [
    "alldata['Item_Visibility'].describe()"
   ]
  },
  {
   "cell_type": "markdown",
   "metadata": {},
   "source": [
    "One observation that strikes me is why is the minimum value 0. How come any product be not visible at all. If its not visible then its not for sale. \n",
    "\n",
    "Can we fix this somehow, sure we can. Lets see how we can fix this.\n"
   ]
  },
  {
   "cell_type": "code",
   "execution_count": 22,
   "metadata": {
    "collapsed": true
   },
   "outputs": [],
   "source": [
    "#First i am going to group by item itentifier and take its mean\n",
    "ItemwiseMeanVisibility=alldata.groupby(\"Item_Identifier\").Item_Visibility.mean()\n",
    "\n",
    "#Find all records with 0 visibility\n",
    "mask = alldata[\"Item_Visibility\"] == 0\n",
    "\n",
    "#Fill 0's with mean visibility by the same item identifier which is unique\n",
    "alldata.loc[mask, \"Item_Visibility\"] = ItemwiseMeanVisibility[alldata.loc[mask, \"Item_Identifier\"]].values\n"
   ]
  },
  {
   "cell_type": "code",
   "execution_count": 23,
   "metadata": {
    "collapsed": false
   },
   "outputs": [
    {
     "data": {
      "text/plain": [
       "count    14204.000000\n",
       "mean         0.069710\n",
       "std          0.049728\n",
       "min          0.003575\n",
       "25%          0.031145\n",
       "50%          0.057194\n",
       "75%          0.096930\n",
       "max          0.328391\n",
       "Name: Item_Visibility, dtype: float64"
      ]
     },
     "execution_count": 23,
     "metadata": {},
     "output_type": "execute_result"
    }
   ],
   "source": [
    "#Checking the item visibility again and now the minimum value is no longer 0 and the distribution still looks \n",
    "#the same so we haven't made any drastic changes to the distribution which is critical\n",
    "alldata['Item_Visibility'].describe()"
   ]
  },
  {
   "cell_type": "code",
   "execution_count": 24,
   "metadata": {
    "collapsed": false
   },
   "outputs": [
    {
     "data": {
      "text/plain": [
       "2439"
      ]
     },
     "execution_count": 24,
     "metadata": {},
     "output_type": "execute_result"
    }
   ],
   "source": [
    "alldata['Item_Weight'].isnull().sum()"
   ]
  },
  {
   "cell_type": "markdown",
   "metadata": {},
   "source": [
    "As noticed at the satrt there are 2439 records were Item_weight is missing. Lets see how we can fix this."
   ]
  },
  {
   "cell_type": "code",
   "execution_count": 25,
   "metadata": {
    "collapsed": false
   },
   "outputs": [
    {
     "data": {
      "text/plain": [
       "0"
      ]
     },
     "execution_count": 25,
     "metadata": {},
     "output_type": "execute_result"
    }
   ],
   "source": [
    "#Take the mean of Item_Weight by Item_Identifier\n",
    "itemizedWeightsByIdentifier=alldata.groupby(\"Item_Identifier\").Item_Weight.mean()\n",
    "\n",
    "#Find out all the rows with null value \n",
    "mask = alldata[\"Item_Weight\"].isnull()\n",
    "\n",
    "#Fill null with average weight of that Item_Identifier\n",
    "alldata.loc[mask, \"Item_Weight\"] = itemizedWeightsByIdentifier[alldata.loc[mask, \"Item_Identifier\"]].values\n",
    "\n",
    "#Check if we have fixed the missing values and you will notice we no longer have this issue.\n",
    "alldata['Item_Weight'].isnull().sum()"
   ]
  },
  {
   "cell_type": "code",
   "execution_count": 26,
   "metadata": {
    "collapsed": false
   },
   "outputs": [
    {
     "data": {
      "text/plain": [
       "count    14204.000000\n",
       "mean      1997.830681\n",
       "std          8.371664\n",
       "min       1985.000000\n",
       "25%       1987.000000\n",
       "50%       1999.000000\n",
       "75%       2004.000000\n",
       "max       2009.000000\n",
       "Name: Outlet_Establishment_Year, dtype: float64"
      ]
     },
     "execution_count": 26,
     "metadata": {},
     "output_type": "execute_result"
    }
   ],
   "source": [
    "#Next we have Outlet_Establishment_Year. Lets look at this feature\n",
    "alldata['Outlet_Establishment_Year'].describe()"
   ]
  },
  {
   "cell_type": "markdown",
   "metadata": {},
   "source": [
    "while the data below looks ok but to a computer a value like 1985 is just a number with no meaning\n",
    "whereas to us it has a meaning we can say that if something was started in 1985 then its 31 yrs old.\n",
    "Hence i will be replacing Outlet_Establishment_Year with OutletAge. We can decide to create a new feature or update the existing one, here i will be updating."
   ]
  },
  {
   "cell_type": "code",
   "execution_count": 27,
   "metadata": {
    "collapsed": true
   },
   "outputs": [],
   "source": [
    "alldata['Outlet_Establishment_Year'] = 2016-alldata['Outlet_Establishment_Year']"
   ]
  },
  {
   "cell_type": "code",
   "execution_count": 28,
   "metadata": {
    "collapsed": false
   },
   "outputs": [
    {
     "data": {
      "text/plain": [
       "0"
      ]
     },
     "execution_count": 28,
     "metadata": {},
     "output_type": "execute_result"
    }
   ],
   "source": [
    "alldata['Outlet_Identifier'].isnull().sum()\n",
    "# There are no missing data in this feature.\n",
    "# I have decided to use this feature as is."
   ]
  },
  {
   "cell_type": "code",
   "execution_count": 29,
   "metadata": {
    "collapsed": false
   },
   "outputs": [
    {
     "data": {
      "text/plain": [
       "0    Tier 1\n",
       "1    Tier 3\n",
       "2    Tier 1\n",
       "3    Tier 3\n",
       "4    Tier 3\n",
       "Name: Outlet_Location_Type, dtype: object"
      ]
     },
     "execution_count": 29,
     "metadata": {},
     "output_type": "execute_result"
    }
   ],
   "source": [
    "alldata['Outlet_Location_Type'].head(5)\n",
    "# This feature looks good as well. So no feature engineering here."
   ]
  },
  {
   "cell_type": "code",
   "execution_count": 30,
   "metadata": {
    "collapsed": false
   },
   "outputs": [
    {
     "data": {
      "text/plain": [
       "array(['Medium', nan, 'High', 'Small'], dtype=object)"
      ]
     },
     "execution_count": 30,
     "metadata": {},
     "output_type": "execute_result"
    }
   ],
   "source": [
    "#Lets look at Outlet_Size feature. Its of type object so we can look at how many unique values it has.\n",
    "alldata['Outlet_Size'].unique()\n",
    "# Notice the 'nan' as value which indicates missing value. This was not reflected at the start when we looked at\n",
    "# the dataset as a whole to check for missing values. \n",
    "# Along with nan there are 3 more types of outlet size in the data 'High', 'Medium' and 'Low'.\n"
   ]
  },
  {
   "cell_type": "code",
   "execution_count": 31,
   "metadata": {
    "collapsed": false
   },
   "outputs": [
    {
     "data": {
      "text/plain": [
       "Medium    4655\n",
       "Small     3980\n",
       "High      1553\n",
       "Name: Outlet_Size, dtype: int64"
      ]
     },
     "execution_count": 31,
     "metadata": {},
     "output_type": "execute_result"
    }
   ],
   "source": [
    "# Lets look at the frequency of each level \n",
    "alldata.Outlet_Size.value_counts()\n",
    "# As you would expect that the outlets with 'medium' and 'small' size have outnumbered 'High' size outlets. Which makes sense"
   ]
  },
  {
   "cell_type": "code",
   "execution_count": 32,
   "metadata": {
    "collapsed": false
   },
   "outputs": [
    {
     "data": {
      "text/plain": [
       "False    10188\n",
       "True      4016\n",
       "Name: Outlet_Size, dtype: int64"
      ]
     },
     "execution_count": 32,
     "metadata": {},
     "output_type": "execute_result"
    }
   ],
   "source": [
    "#Number of mising values in Outlet_Size. There are 4016 rows with missing data. We need to fix this\n",
    "alldata.Outlet_Size.isnull().value_counts()"
   ]
  },
  {
   "cell_type": "code",
   "execution_count": 33,
   "metadata": {
    "collapsed": false
   },
   "outputs": [
    {
     "data": {
      "text/plain": [
       "Outlet_Size  Outlet_Type      \n",
       "High         Supermarket Type1    1553\n",
       "Medium       Supermarket Type3    1559\n",
       "             Supermarket Type1    1550\n",
       "             Supermarket Type2    1546\n",
       "Small        Supermarket Type1    3100\n",
       "             Grocery Store         880\n",
       "Name: Outlet_Type, dtype: int64"
      ]
     },
     "execution_count": 33,
     "metadata": {},
     "output_type": "execute_result"
    }
   ],
   "source": [
    "alldata.groupby('Outlet_Size').Outlet_Type.value_counts()"
   ]
  },
  {
   "cell_type": "code",
   "execution_count": 34,
   "metadata": {
    "collapsed": false
   },
   "outputs": [
    {
     "data": {
      "text/html": [
       "<div>\n",
       "<table border=\"1\" class=\"dataframe\">\n",
       "  <thead>\n",
       "    <tr style=\"text-align: right;\">\n",
       "      <th>Outlet_Type</th>\n",
       "      <th>Grocery Store</th>\n",
       "      <th>Supermarket Type1</th>\n",
       "      <th>Supermarket Type2</th>\n",
       "      <th>Supermarket Type3</th>\n",
       "      <th>All</th>\n",
       "    </tr>\n",
       "    <tr>\n",
       "      <th>Outlet_Size</th>\n",
       "      <th></th>\n",
       "      <th></th>\n",
       "      <th></th>\n",
       "      <th></th>\n",
       "      <th></th>\n",
       "    </tr>\n",
       "  </thead>\n",
       "  <tbody>\n",
       "    <tr>\n",
       "      <th>High</th>\n",
       "      <td>0</td>\n",
       "      <td>1553</td>\n",
       "      <td>0</td>\n",
       "      <td>0</td>\n",
       "      <td>1553</td>\n",
       "    </tr>\n",
       "    <tr>\n",
       "      <th>Medium</th>\n",
       "      <td>0</td>\n",
       "      <td>1550</td>\n",
       "      <td>1546</td>\n",
       "      <td>1559</td>\n",
       "      <td>4655</td>\n",
       "    </tr>\n",
       "    <tr>\n",
       "      <th>Small</th>\n",
       "      <td>880</td>\n",
       "      <td>3100</td>\n",
       "      <td>0</td>\n",
       "      <td>0</td>\n",
       "      <td>3980</td>\n",
       "    </tr>\n",
       "    <tr>\n",
       "      <th>All</th>\n",
       "      <td>1805</td>\n",
       "      <td>9294</td>\n",
       "      <td>1546</td>\n",
       "      <td>1559</td>\n",
       "      <td>14204</td>\n",
       "    </tr>\n",
       "  </tbody>\n",
       "</table>\n",
       "</div>"
      ],
      "text/plain": [
       "Outlet_Type  Grocery Store  Supermarket Type1  Supermarket Type2  \\\n",
       "Outlet_Size                                                        \n",
       "High                     0               1553                  0   \n",
       "Medium                   0               1550               1546   \n",
       "Small                  880               3100                  0   \n",
       "All                   1805               9294               1546   \n",
       "\n",
       "Outlet_Type  Supermarket Type3    All  \n",
       "Outlet_Size                            \n",
       "High                         0   1553  \n",
       "Medium                    1559   4655  \n",
       "Small                        0   3980  \n",
       "All                       1559  14204  "
      ]
     },
     "execution_count": 34,
     "metadata": {},
     "output_type": "execute_result"
    }
   ],
   "source": [
    "pd.crosstab(alldata['Outlet_Size'], alldata['Outlet_Type'], dropna=False, margins=True)\n",
    "# Inference from below output.\n",
    "\n",
    "#1. If the Outlet_Type is Grocery Store then the Outlet_Size is only Small which makes sense as well.\n",
    "#So we can impute the missing values as Small if the Outlet_Type is Grocery Store.\n",
    "#2. Similar assumption cant be made about Superarket Type1 because it has a mix of all 3 outlet sizes."
   ]
  },
  {
   "cell_type": "code",
   "execution_count": 35,
   "metadata": {
    "collapsed": false
   },
   "outputs": [],
   "source": [
    "alldata.loc[alldata.Outlet_Type=='Grocery Store','Outlet_Size'] = 'Small'"
   ]
  },
  {
   "cell_type": "code",
   "execution_count": 36,
   "metadata": {
    "collapsed": false
   },
   "outputs": [
    {
     "data": {
      "text/html": [
       "<div>\n",
       "<table border=\"1\" class=\"dataframe\">\n",
       "  <thead>\n",
       "    <tr style=\"text-align: right;\">\n",
       "      <th>Outlet_Type</th>\n",
       "      <th>Grocery Store</th>\n",
       "      <th>Supermarket Type1</th>\n",
       "      <th>Supermarket Type2</th>\n",
       "      <th>Supermarket Type3</th>\n",
       "      <th>All</th>\n",
       "    </tr>\n",
       "    <tr>\n",
       "      <th>Outlet_Size</th>\n",
       "      <th></th>\n",
       "      <th></th>\n",
       "      <th></th>\n",
       "      <th></th>\n",
       "      <th></th>\n",
       "    </tr>\n",
       "  </thead>\n",
       "  <tbody>\n",
       "    <tr>\n",
       "      <th>High</th>\n",
       "      <td>0</td>\n",
       "      <td>1553</td>\n",
       "      <td>0</td>\n",
       "      <td>0</td>\n",
       "      <td>1553</td>\n",
       "    </tr>\n",
       "    <tr>\n",
       "      <th>Medium</th>\n",
       "      <td>0</td>\n",
       "      <td>1550</td>\n",
       "      <td>1546</td>\n",
       "      <td>1559</td>\n",
       "      <td>4655</td>\n",
       "    </tr>\n",
       "    <tr>\n",
       "      <th>Small</th>\n",
       "      <td>1805</td>\n",
       "      <td>3100</td>\n",
       "      <td>0</td>\n",
       "      <td>0</td>\n",
       "      <td>4905</td>\n",
       "    </tr>\n",
       "    <tr>\n",
       "      <th>All</th>\n",
       "      <td>1805</td>\n",
       "      <td>9294</td>\n",
       "      <td>1546</td>\n",
       "      <td>1559</td>\n",
       "      <td>14204</td>\n",
       "    </tr>\n",
       "  </tbody>\n",
       "</table>\n",
       "</div>"
      ],
      "text/plain": [
       "Outlet_Type  Grocery Store  Supermarket Type1  Supermarket Type2  \\\n",
       "Outlet_Size                                                        \n",
       "High                     0               1553                  0   \n",
       "Medium                   0               1550               1546   \n",
       "Small                 1805               3100                  0   \n",
       "All                   1805               9294               1546   \n",
       "\n",
       "Outlet_Type  Supermarket Type3    All  \n",
       "Outlet_Size                            \n",
       "High                         0   1553  \n",
       "Medium                    1559   4655  \n",
       "Small                        0   4905  \n",
       "All                       1559  14204  "
      ]
     },
     "execution_count": 36,
     "metadata": {},
     "output_type": "execute_result"
    }
   ],
   "source": [
    "#check if the Outlet_Size data is fixed when Outlet_Type is Grocery Store. \n",
    "#Output below says we have fixed part of the problem.\n",
    "pd.crosstab(alldata['Outlet_Size'], alldata['Outlet_Type'], dropna=False, margins=True)"
   ]
  },
  {
   "cell_type": "code",
   "execution_count": 37,
   "metadata": {
    "collapsed": false
   },
   "outputs": [
    {
     "data": {
      "text/html": [
       "<div>\n",
       "<table border=\"1\" class=\"dataframe\">\n",
       "  <thead>\n",
       "    <tr style=\"text-align: right;\">\n",
       "      <th>Outlet_Location_Type</th>\n",
       "      <th>Tier 1</th>\n",
       "      <th>Tier 2</th>\n",
       "      <th>Tier 3</th>\n",
       "      <th>All</th>\n",
       "    </tr>\n",
       "    <tr>\n",
       "      <th>Outlet_Size</th>\n",
       "      <th></th>\n",
       "      <th></th>\n",
       "      <th></th>\n",
       "      <th></th>\n",
       "    </tr>\n",
       "  </thead>\n",
       "  <tbody>\n",
       "    <tr>\n",
       "      <th>High</th>\n",
       "      <td>0</td>\n",
       "      <td>0</td>\n",
       "      <td>1553</td>\n",
       "      <td>1553</td>\n",
       "    </tr>\n",
       "    <tr>\n",
       "      <th>Medium</th>\n",
       "      <td>1550</td>\n",
       "      <td>0</td>\n",
       "      <td>3105</td>\n",
       "      <td>4655</td>\n",
       "    </tr>\n",
       "    <tr>\n",
       "      <th>Small</th>\n",
       "      <td>2430</td>\n",
       "      <td>1550</td>\n",
       "      <td>925</td>\n",
       "      <td>4905</td>\n",
       "    </tr>\n",
       "    <tr>\n",
       "      <th>All</th>\n",
       "      <td>3980</td>\n",
       "      <td>4641</td>\n",
       "      <td>5583</td>\n",
       "      <td>14204</td>\n",
       "    </tr>\n",
       "  </tbody>\n",
       "</table>\n",
       "</div>"
      ],
      "text/plain": [
       "Outlet_Location_Type  Tier 1  Tier 2  Tier 3    All\n",
       "Outlet_Size                                        \n",
       "High                       0       0    1553   1553\n",
       "Medium                  1550       0    3105   4655\n",
       "Small                   2430    1550     925   4905\n",
       "All                     3980    4641    5583  14204"
      ]
     },
     "execution_count": 37,
     "metadata": {},
     "output_type": "execute_result"
    }
   ],
   "source": [
    "# Lets see how to fix rest of the Outlet_Size data\n",
    "\n",
    "pd.crosstab(alldata['Outlet_Size'], alldata['Outlet_Location_Type'], dropna=False, margins=True)\n",
    "\n",
    "#Inference\n",
    "# Now we are looking at frequency of outlet size by outlet location type and notice that Tier 2 \n",
    "# location type has missing values for outlet size and in Tier 2 all the outlets are of 'Small' size. \n",
    "# Hence we can assume that the rest will be of Small size as well"
   ]
  },
  {
   "cell_type": "code",
   "execution_count": 38,
   "metadata": {
    "collapsed": true
   },
   "outputs": [],
   "source": [
    "alldata.loc[alldata.Outlet_Location_Type=='Tier 2','Outlet_Size'] = 'Small'"
   ]
  },
  {
   "cell_type": "code",
   "execution_count": 39,
   "metadata": {
    "collapsed": false
   },
   "outputs": [
    {
     "data": {
      "text/plain": [
       "array(['Medium', 'Small', 'High'], dtype=object)"
      ]
     },
     "execution_count": 39,
     "metadata": {},
     "output_type": "execute_result"
    }
   ],
   "source": [
    "#Lets check if we have any more missing data in Outlet size feature\n",
    "alldata['Outlet_Size'].unique()\n",
    "#From the output we can say we are good with this feature as there are no nas"
   ]
  },
  {
   "cell_type": "code",
   "execution_count": 40,
   "metadata": {
    "collapsed": false
   },
   "outputs": [
    {
     "data": {
      "text/plain": [
       "array(['Supermarket Type1', 'Supermarket Type2', 'Grocery Store',\n",
       "       'Supermarket Type3'], dtype=object)"
      ]
     },
     "execution_count": 40,
     "metadata": {},
     "output_type": "execute_result"
    }
   ],
   "source": [
    "# Next up is Outlet_Type\n",
    "alldata['Outlet_Type'].unique()\n",
    "# Looking at the unique values we can say that there are no missing values\n",
    "# I am going to use the feature as is."
   ]
  },
  {
   "cell_type": "markdown",
   "metadata": {},
   "source": [
    "# Feature engineering.\n",
    "\n",
    "So far we have done a lot of missing data imputation and cleaning of data but we haven't created any new feature of our own. This is a crucial step and lot of it depends on your domain expertise.\n",
    "\n",
    "While i am not an expert in Retail but one thing that comes intutively is a sales #volume feature. A Grocery store would have a low sales volume as compared to a Supermarket Type 3 which would be like the walmart's of this world with very high volume.\n",
    "\n",
    "I am going to create this feature with values high, mid and low depending upon the type of outlet which we have in the dataset as outlet_type."
   ]
  },
  {
   "cell_type": "code",
   "execution_count": 41,
   "metadata": {
    "collapsed": true
   },
   "outputs": [],
   "source": [
    "alldata['volume'] = 'low'\n",
    "alldata.loc[alldata.Outlet_Type=='Grocery Store','volume'] = 'low'\n",
    "alldata.loc[alldata.Outlet_Type=='Supermarket Type1','volume'] = 'mid'\n",
    "alldata.loc[alldata.Outlet_Type=='Supermarket Type2','volume'] = 'mid'\n",
    "alldata.loc[alldata.Outlet_Type=='Supermarket Type3','volume'] = 'high'"
   ]
  },
  {
   "cell_type": "code",
   "execution_count": 42,
   "metadata": {
    "collapsed": false
   },
   "outputs": [
    {
     "data": {
      "text/plain": [
       "Index(['Item_Identifier', 'Item_Weight', 'Item_Fat_Content', 'Item_Visibility',\n",
       "       'Item_Type', 'Item_MRP', 'Outlet_Identifier',\n",
       "       'Outlet_Establishment_Year', 'Outlet_Size', 'Outlet_Location_Type',\n",
       "       'Outlet_Type', 'Item_Outlet_Sales', 'volume'],\n",
       "      dtype='object')"
      ]
     },
     "execution_count": 42,
     "metadata": {},
     "output_type": "execute_result"
    }
   ],
   "source": [
    "alldata.columns\n",
    "# we can see we have successfully added a new feature named volume to the dataset"
   ]
  },
  {
   "cell_type": "code",
   "execution_count": 43,
   "metadata": {
    "collapsed": false
   },
   "outputs": [
    {
     "data": {
      "text/plain": [
       "array(['mid', 'low', 'high'], dtype=object)"
      ]
     },
     "execution_count": 43,
     "metadata": {},
     "output_type": "execute_result"
    }
   ],
   "source": [
    "alldata.volume.unique()"
   ]
  },
  {
   "cell_type": "code",
   "execution_count": 44,
   "metadata": {
    "collapsed": false
   },
   "outputs": [
    {
     "data": {
      "text/html": [
       "<div>\n",
       "<table border=\"1\" class=\"dataframe\">\n",
       "  <thead>\n",
       "    <tr style=\"text-align: right;\">\n",
       "      <th>Outlet_Type</th>\n",
       "      <th>Grocery Store</th>\n",
       "      <th>Supermarket Type1</th>\n",
       "      <th>Supermarket Type2</th>\n",
       "      <th>Supermarket Type3</th>\n",
       "      <th>All</th>\n",
       "    </tr>\n",
       "    <tr>\n",
       "      <th>volume</th>\n",
       "      <th></th>\n",
       "      <th></th>\n",
       "      <th></th>\n",
       "      <th></th>\n",
       "      <th></th>\n",
       "    </tr>\n",
       "  </thead>\n",
       "  <tbody>\n",
       "    <tr>\n",
       "      <th>high</th>\n",
       "      <td>0</td>\n",
       "      <td>0</td>\n",
       "      <td>0</td>\n",
       "      <td>1559</td>\n",
       "      <td>1559</td>\n",
       "    </tr>\n",
       "    <tr>\n",
       "      <th>low</th>\n",
       "      <td>1805</td>\n",
       "      <td>0</td>\n",
       "      <td>0</td>\n",
       "      <td>0</td>\n",
       "      <td>1805</td>\n",
       "    </tr>\n",
       "    <tr>\n",
       "      <th>mid</th>\n",
       "      <td>0</td>\n",
       "      <td>9294</td>\n",
       "      <td>1546</td>\n",
       "      <td>0</td>\n",
       "      <td>10840</td>\n",
       "    </tr>\n",
       "    <tr>\n",
       "      <th>All</th>\n",
       "      <td>1805</td>\n",
       "      <td>9294</td>\n",
       "      <td>1546</td>\n",
       "      <td>1559</td>\n",
       "      <td>14204</td>\n",
       "    </tr>\n",
       "  </tbody>\n",
       "</table>\n",
       "</div>"
      ],
      "text/plain": [
       "Outlet_Type  Grocery Store  Supermarket Type1  Supermarket Type2  \\\n",
       "volume                                                             \n",
       "high                     0                  0                  0   \n",
       "low                   1805                  0                  0   \n",
       "mid                      0               9294               1546   \n",
       "All                   1805               9294               1546   \n",
       "\n",
       "Outlet_Type  Supermarket Type3    All  \n",
       "volume                                 \n",
       "high                      1559   1559  \n",
       "low                          0   1805  \n",
       "mid                          0  10840  \n",
       "All                       1559  14204  "
      ]
     },
     "execution_count": 44,
     "metadata": {},
     "output_type": "execute_result"
    }
   ],
   "source": [
    "pd.crosstab(alldata['volume'], alldata['Outlet_Type'], dropna=False, margins=True)"
   ]
  },
  {
   "cell_type": "markdown",
   "metadata": {},
   "source": [
    "Next i am going to use 'Item_Weight' feature and create a new feature named \"weight_Categories\". For this i will\n",
    "create bins of weights and assign 'Low', 'Medium' and 'Heavy' as its value based on item_weight feature.\n"
   ]
  },
  {
   "cell_type": "code",
   "execution_count": 46,
   "metadata": {
    "collapsed": false
   },
   "outputs": [
    {
     "data": {
      "text/plain": [
       "Index(['Item_Identifier', 'Item_Weight', 'Item_Fat_Content', 'Item_Visibility',\n",
       "       'Item_Type', 'Item_MRP', 'Outlet_Identifier',\n",
       "       'Outlet_Establishment_Year', 'Outlet_Size', 'Outlet_Location_Type',\n",
       "       'Outlet_Type', 'Item_Outlet_Sales', 'volume', 'weight_categories'],\n",
       "      dtype='object')"
      ]
     },
     "execution_count": 46,
     "metadata": {},
     "output_type": "execute_result"
    }
   ],
   "source": [
    "\n",
    "bins = [0, 10, 15, 20]\n",
    "group_names=['Low','Medium','Heavy']\n",
    "weight_categories = pd.cut(alldata['Item_Weight'], bins, labels=group_names)\n",
    "alldata['weight_categories']=weight_categories\n",
    "\n",
    "alldata.columns"
   ]
  },
  {
   "cell_type": "markdown",
   "metadata": {},
   "source": [
    "Rather than using Item_Outlet_Sales as the dependent variable, I am going to create a new variable \n",
    "Items_Sold, and use this as the dependent variable. This needs to be done on only the training data.\n",
    "So lets first split our training and test data."
   ]
  },
  {
   "cell_type": "code",
   "execution_count": 47,
   "metadata": {
    "collapsed": false
   },
   "outputs": [],
   "source": [
    "trainingData=alldata.loc[alldata['Item_Outlet_Sales'] != 0].copy()\n",
    "testData=alldata.loc[alldata['Item_Outlet_Sales'] == 0].copy()"
   ]
  },
  {
   "cell_type": "code",
   "execution_count": 48,
   "metadata": {
    "collapsed": false
   },
   "outputs": [],
   "source": [
    "itemSold = round(trainingData['Item_Outlet_Sales'] / trainingData['Item_MRP'])\n",
    "trainingData['Item_Sold']=itemSold"
   ]
  },
  {
   "cell_type": "code",
   "execution_count": 49,
   "metadata": {
    "collapsed": false
   },
   "outputs": [],
   "source": [
    "# We no longer need 'Item_Outlet_Sales' feature so lets remove it\n",
    "del trainingData['Item_Outlet_Sales']\n",
    "del testData['Item_Outlet_Sales']"
   ]
  },
  {
   "cell_type": "markdown",
   "metadata": {},
   "source": [
    "# Modelling"
   ]
  },
  {
   "cell_type": "markdown",
   "metadata": {},
   "source": [
    "OK, We are done with EDA, cleaning data and feature engineering.\n",
    "Lets build a model. Now below i am going to give you only random forest but i did create a lot of models using following techniques\n",
    "and random forest gave me the least RMSE(Root mean square error- which is the evalution criteria for this challenge) hence that's the one i am publishing here. \n",
    "1. MLR\n",
    "2. Decision tree\n",
    "3. Ridge regression\n",
    "4. Lasso regression\n",
    "5. Mars technique"
   ]
  },
  {
   "cell_type": "code",
   "execution_count": 50,
   "metadata": {
    "collapsed": false
   },
   "outputs": [],
   "source": [
    "Y= trainingData['Item_Sold']\n",
    "Y_Item_Identifier=testData['Item_Identifier']"
   ]
  },
  {
   "cell_type": "code",
   "execution_count": 51,
   "metadata": {
    "collapsed": true
   },
   "outputs": [],
   "source": [
    "del trainingData['Item_Sold']\n"
   ]
  },
  {
   "cell_type": "code",
   "execution_count": 52,
   "metadata": {
    "collapsed": false
   },
   "outputs": [],
   "source": [
    "del trainingData['Item_Identifier']\n",
    "del testData['Item_Identifier']\n"
   ]
  },
  {
   "cell_type": "code",
   "execution_count": 53,
   "metadata": {
    "collapsed": true
   },
   "outputs": [],
   "source": [
    "#Sckit works only with integer variables hence following will convert\n",
    "#object types to dummy variables (one hot encoding)\n",
    "\n",
    "X_train = pd.get_dummies(trainingData)\n",
    "X_test = pd.get_dummies(testData)\n"
   ]
  },
  {
   "cell_type": "code",
   "execution_count": 54,
   "metadata": {
    "collapsed": false
   },
   "outputs": [
    {
     "name": "stdout",
     "output_type": "stream",
     "text": [
      "(8523, 48)\n",
      "(5681, 48)\n"
     ]
    }
   ],
   "source": [
    "#Just checking if i have the same number of features in both test and training dataset\n",
    "X_train.columns.equals(X_test.columns)\n",
    "\n",
    "print(X_train.shape)\n",
    "print(X_test.shape)\n"
   ]
  },
  {
   "cell_type": "code",
   "execution_count": 55,
   "metadata": {
    "collapsed": true
   },
   "outputs": [],
   "source": [
    "from sklearn.ensemble import RandomForestRegressor\n",
    "#Random forest \n",
    "clf = RandomForestRegressor(n_estimators=350, max_depth=9)\n",
    "#train the model\n",
    "clf = clf.fit(X_train, Y)\n",
    "\n",
    "#make prediction on test data\n",
    "Y_predicted=pd.Series(clf.predict(X_test))\n",
    "from numpy import multiply\n",
    "sales =  multiply(Y_predicted , pd.Series( testData['Item_MRP']))\n",
    "\n",
    "# Create submission file\n",
    "submit=pd.DataFrame({'Item_Identifier':Y_Item_Identifier, 'Outlet_Identifier':testData['Outlet_Identifier'],'Item_Outlet_Sales':sales.round()})\n",
    "path=\"SubmissionFile.csv\"\n",
    "submit.to_csv(path, index=False)\n",
    "\n",
    "You can submit the file on the competion page itself to get a ranking on the public leaderboard.\n"
   ]
  },
  {
   "cell_type": "markdown",
   "metadata": {},
   "source": [
    "## Conclusion\n",
    "\n",
    "Being listed on the public leaderboard in Top 20 has motivated me to keep working on this and improve on my ranking. It took me nearly 2 months to be where i am on the leaderboard. Lately i haven't been contributing to it much and hence i have slipped to 16th (i was in top 5 at one time). If anyone is interested in taking this code forward then please do so i would highly recommend trying ensembling and more feature engineering. \n",
    "\n",
    "So far i have really enjoyed working on this and seeing my name on the leaderboard.\n",
    "I look forward for comments and suggestions to improve further.\n",
    "\n",
    "Happy analysing. "
   ]
  }
 ],
 "metadata": {
  "anaconda-cloud": {},
  "kernelspec": {
   "display_name": "Python [conda root]",
   "language": "python",
   "name": "conda-root-py"
  },
  "language_info": {
   "codemirror_mode": {
    "name": "ipython",
    "version": 3
   },
   "file_extension": ".py",
   "mimetype": "text/x-python",
   "name": "python",
   "nbconvert_exporter": "python",
   "pygments_lexer": "ipython3",
   "version": "3.5.2"
  },
  "nbpresent": {
   "slides": {
    "3e7647e9-b678-41cf-92ee-710fa540a002": {
     "id": "3e7647e9-b678-41cf-92ee-710fa540a002",
     "prev": null,
     "regions": {
      "cd9db355-6670-4180-b5a2-3865f31d8be9": {
       "attrs": {
        "height": 0.8,
        "width": 0.8,
        "x": 0.1,
        "y": 0.1
       },
       "content": {
        "cell": "78e586dc-88c0-448a-bd08-359f164f0ec5",
        "part": "whole"
       },
       "id": "cd9db355-6670-4180-b5a2-3865f31d8be9"
      }
     }
    },
    "abc37e04-a231-4c47-ae85-cf0725dc1191": {
     "id": "abc37e04-a231-4c47-ae85-cf0725dc1191",
     "prev": "ec1f1c2c-08a6-46a1-8460-e0441cd8bb9a",
     "regions": {
      "2357dfa3-f340-43e3-befc-49d59c5502d9": {
       "attrs": {
        "height": 0.8,
        "width": 0.8,
        "x": 0.1,
        "y": 0.1
       },
       "content": {
        "cell": "22e472de-2c64-4bc0-83eb-32d3cad3aabd",
        "part": "whole"
       },
       "id": "2357dfa3-f340-43e3-befc-49d59c5502d9"
      }
     }
    },
    "ec1f1c2c-08a6-46a1-8460-e0441cd8bb9a": {
     "id": "ec1f1c2c-08a6-46a1-8460-e0441cd8bb9a",
     "prev": "3e7647e9-b678-41cf-92ee-710fa540a002",
     "regions": {
      "ce752896-f551-48e4-8b13-85f57e3cf459": {
       "attrs": {
        "height": 0.8,
        "width": 0.8,
        "x": 0.1,
        "y": 0.1
       },
       "content": {
        "cell": "4d71d21e-e15d-4b60-80db-1bac19976199",
        "part": "whole"
       },
       "id": "ce752896-f551-48e4-8b13-85f57e3cf459"
      }
     }
    }
   },
   "themes": {
    "default": "e8de647b-2ee5-4f88-8352-870f45cb48db",
    "theme": {
     "e8de647b-2ee5-4f88-8352-870f45cb48db": {
      "id": "e8de647b-2ee5-4f88-8352-870f45cb48db",
      "palette": {
       "19cc588f-0593-49c9-9f4b-e4d7cc113b1c": {
        "id": "19cc588f-0593-49c9-9f4b-e4d7cc113b1c",
        "rgb": [
         252,
         252,
         252
        ]
       },
       "31af15d2-7e15-44c5-ab5e-e04b16a89eff": {
        "id": "31af15d2-7e15-44c5-ab5e-e04b16a89eff",
        "rgb": [
         68,
         68,
         68
        ]
       },
       "50f92c45-a630-455b-aec3-788680ec7410": {
        "id": "50f92c45-a630-455b-aec3-788680ec7410",
        "rgb": [
         155,
         177,
         192
        ]
       },
       "c5cc3653-2ee1-402a-aba2-7caae1da4f6c": {
        "id": "c5cc3653-2ee1-402a-aba2-7caae1da4f6c",
        "rgb": [
         43,
         126,
         184
        ]
       },
       "efa7f048-9acb-414c-8b04-a26811511a21": {
        "id": "efa7f048-9acb-414c-8b04-a26811511a21",
        "rgb": [
         25.118061674008803,
         73.60176211453744,
         107.4819383259912
        ]
       }
      },
      "rules": {
       "blockquote": {
        "color": "50f92c45-a630-455b-aec3-788680ec7410"
       },
       "code": {
        "font-family": "Anonymous Pro"
       },
       "h1": {
        "color": "c5cc3653-2ee1-402a-aba2-7caae1da4f6c",
        "font-family": "Lato",
        "font-size": 8
       },
       "h2": {
        "color": "c5cc3653-2ee1-402a-aba2-7caae1da4f6c",
        "font-family": "Lato",
        "font-size": 6
       },
       "h3": {
        "color": "50f92c45-a630-455b-aec3-788680ec7410",
        "font-family": "Lato",
        "font-size": 5.5
       },
       "h4": {
        "color": "c5cc3653-2ee1-402a-aba2-7caae1da4f6c",
        "font-family": "Lato",
        "font-size": 5
       },
       "h5": {
        "font-family": "Lato"
       },
       "h6": {
        "font-family": "Lato"
       },
       "h7": {
        "font-family": "Lato"
       },
       "pre": {
        "font-family": "Anonymous Pro",
        "font-size": 4
       }
      },
      "text-base": {
       "font-family": "Merriweather",
       "font-size": 4
      }
     }
    }
   }
  }
 },
 "nbformat": 4,
 "nbformat_minor": 0
}
